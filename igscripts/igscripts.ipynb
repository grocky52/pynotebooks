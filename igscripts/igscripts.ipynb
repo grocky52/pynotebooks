{
 "cells": [
  {
   "cell_type": "code",
   "execution_count": 1,
   "id": "df60413b",
   "metadata": {},
   "outputs": [
    {
     "name": "stdout",
     "output_type": "stream",
     "text": [
      "enter string of any kind     james makes a good soup\n",
      "a\n",
      "good\n",
      "james\n",
      "makes\n",
      "soup\n"
     ]
    }
   ],
   "source": [
    "#inputting sring in alphabetical order\n",
    "def orderstring(inputstr):\n",
    "    stringlist = [s.lower() for s in inputstr.split()]\n",
    "    stringlist.sort()\n",
    "    for l in stringlist:\n",
    "        print(l)\n",
    "    \n",
    "if __name__ == '__main__':\n",
    "    inputstring = input('enter string of any kind     ')\n",
    "    orderstring(inputstring)"
   ]
  },
  {
   "cell_type": "code",
   "execution_count": 5,
   "id": "4f3aa294",
   "metadata": {},
   "outputs": [
    {
     "name": "stdout",
     "output_type": "stream",
     "text": [
      "['j', 'a', 'm', 'e', 's']\n"
     ]
    }
   ],
   "source": [
    "def splitword(word):\n",
    "    return [char for char in word]\n",
    "\n",
    "word = 'james'\n",
    "sp = splitword(word)\n",
    "print(sp)"
   ]
  },
  {
   "cell_type": "code",
   "execution_count": 1,
   "id": "5f7e3cb6",
   "metadata": {},
   "outputs": [
    {
     "ename": "ModuleNotFoundError",
     "evalue": "No module named 'lyricsgenius'",
     "output_type": "error",
     "traceback": [
      "\u001b[0;31m---------------------------------------------------------------------------\u001b[0m",
      "\u001b[0;31mModuleNotFoundError\u001b[0m                       Traceback (most recent call last)",
      "\u001b[0;32m<ipython-input-1-c28228d6a709>\u001b[0m in \u001b[0;36m<module>\u001b[0;34m\u001b[0m\n\u001b[1;32m      1\u001b[0m \u001b[0;31m#!/usr/bin/python3\u001b[0m\u001b[0;34m\u001b[0m\u001b[0;34m\u001b[0m\u001b[0;34m\u001b[0m\u001b[0m\n\u001b[0;32m----> 2\u001b[0;31m \u001b[0;32mimport\u001b[0m \u001b[0mlyricsgenius\u001b[0m \u001b[0;32mas\u001b[0m \u001b[0mlg\u001b[0m\u001b[0;34m\u001b[0m\u001b[0;34m\u001b[0m\u001b[0m\n\u001b[0m\u001b[1;32m      3\u001b[0m \u001b[0;34m\u001b[0m\u001b[0m\n\u001b[1;32m      4\u001b[0m \u001b[0;32mclass\u001b[0m \u001b[0mlyrics1\u001b[0m\u001b[0;34m:\u001b[0m\u001b[0;34m\u001b[0m\u001b[0;34m\u001b[0m\u001b[0m\n\u001b[1;32m      5\u001b[0m     \u001b[0;32mdef\u001b[0m \u001b[0m__init__\u001b[0m\u001b[0;34m(\u001b[0m\u001b[0mself\u001b[0m\u001b[0;34m,\u001b[0m \u001b[0mlg_song\u001b[0m\u001b[0;34m,\u001b[0m \u001b[0mlg_artist\u001b[0m\u001b[0;34m)\u001b[0m\u001b[0;34m:\u001b[0m\u001b[0;34m\u001b[0m\u001b[0;34m\u001b[0m\u001b[0m\n",
      "\u001b[0;31mModuleNotFoundError\u001b[0m: No module named 'lyricsgenius'"
     ]
    }
   ],
   "source": [
    "#!/usr/bin/python3\n",
    "import lyricsgenius as lg \n",
    "\n",
    "class lyrics1:\n",
    "    def __init__(self, lg_song, lg_artist):\n",
    "        api_key = 'xvx4-YJzMnTVn4uPWt_kU6oRE2IiLZnSYqgKZO7g8iQIRkagmePnp8awHaKWLETM'\n",
    "        self.lg_song = lg_song\n",
    "        self.lg_artist = lg_artist\n",
    "\n",
    "        \n",
    "    def findlyrics(self):\n",
    "        print('we started')\n",
    "        lg_object = lg.Genius(api_key)\n",
    "        lyrics = lg_object.search_song(self.lg_song, self.lg_artist)\n",
    "        print(lyrics.lyrics)\n",
    "\n",
    "if __name__ == '__main__':\n",
    "    song = 'love more'\n",
    "    artist = 'chris brown'\n",
    "    class_obj = lyrics1(song, artist)\n",
    "    class_obj. findlyrics"
   ]
  },
  {
   "cell_type": "code",
   "execution_count": null,
   "id": "780b5e8e",
   "metadata": {},
   "outputs": [],
   "source": []
  }
 ],
 "metadata": {
  "kernelspec": {
   "display_name": "Python 3",
   "language": "python",
   "name": "python3"
  },
  "language_info": {
   "codemirror_mode": {
    "name": "ipython",
    "version": 3
   },
   "file_extension": ".py",
   "mimetype": "text/x-python",
   "name": "python",
   "nbconvert_exporter": "python",
   "pygments_lexer": "ipython3",
   "version": "3.8.8"
  }
 },
 "nbformat": 4,
 "nbformat_minor": 5
}
