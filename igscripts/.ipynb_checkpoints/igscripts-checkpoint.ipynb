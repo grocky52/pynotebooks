{
 "cells": [
  {
   "cell_type": "code",
   "execution_count": null,
   "id": "404e9f48",
   "metadata": {},
   "outputs": [],
   "source": [
    "#inputting sring in alphabetical order\n",
    "def orderstring(inputstr):\n",
    "    stringlist = [s.lower() for s in inputstr.split()]\n",
    "    stringlist.sort()\n",
    "    for l in stringlist:\n",
    "        print(l)\n",
    "    \n",
    "if __name__ == '__main__':\n",
    "    inputstring = input('enter string of any kind     ')\n",
    "    orderstring(inputstring)"
   ]
  },
  {
   "cell_type": "code",
   "execution_count": null,
   "id": "02232c84",
   "metadata": {},
   "outputs": [],
   "source": [
    "word = 'james'\n",
    "print(word.sort())"
   ]
  },
  {
   "cell_type": "code",
   "execution_count": null,
   "id": "cba75a12",
   "metadata": {},
   "outputs": [],
   "source": []
  },
  {
   "cell_type": "code",
   "execution_count": null,
   "id": "7901a0a8",
   "metadata": {},
   "outputs": [],
   "source": []
  }
 ],
 "metadata": {
  "kernelspec": {
   "display_name": "Python 3",
   "language": "python",
   "name": "python3"
  },
  "language_info": {
   "codemirror_mode": {
    "name": "ipython",
    "version": 3
   },
   "file_extension": ".py",
   "mimetype": "text/x-python",
   "name": "python",
   "nbconvert_exporter": "python",
   "pygments_lexer": "ipython3",
   "version": "3.8.8"
  }
 },
 "nbformat": 4,
 "nbformat_minor": 5
}
