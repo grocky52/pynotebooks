{
 "cells": [
  {
   "cell_type": "code",
   "execution_count": 8,
   "id": "referenced-practitioner",
   "metadata": {},
   "outputs": [
    {
     "name": "stdout",
     "output_type": "stream",
     "text": [
      "<bound method Tag.prettify of <!DOCTYPE html>\n",
      "<!--[if lt IE 7]>      <html class=\"no-js lt-ie9 lt-ie8 lt-ie7\"> <![endif]--><!--[if IE 7]>         <html class=\"no-js lt-ie9 lt-ie8\"> <![endif]--><!--[if IE 8]>         <html class=\"no-js lt-ie9\"> <![endif]--><!--[if gt IE 8]><!--><html class=\"no-js\" dir=\"ltr\"><!--<![endif]--><head><meta charset=\"utf-8\"/><meta content=\"IE=edge,chrome=1\" http-equiv=\"X-UA-Compatible\"/><title>WhatsApp Web</title><meta content=\"width=device-width\" name=\"viewport\"/><meta content=\"notranslate\" name=\"google\"/><meta content=\"Quickly send and receive WhatsApp messages right from your computer.\" name=\"description\"/><meta content=\"Quickly send and receive WhatsApp messages right from your computer.\" name=\"og:description\"/><meta content=\"https://web.whatsapp.com/\" name=\"og:url\"/><meta content=\"WhatsApp Web\" name=\"og:title\"/><meta content=\"https://static.facebook.com/images/whatsapp/www/whatsapp-promo.png\" name=\"og:image\"/><link href=\"/img/favicon/1x/favicon.png\" rel=\"icon\" sizes=\"16x16\" type=\"image/png\"/><link href=\"/img/favicon/2x/favicon.png\" rel=\"icon\" sizes=\"32x32\" type=\"image/png\"/><link href=\"/favicon.ico\" rel=\"shortcut icon\" type=\"image/x-icon\"/><link href=\"/apple-touch-icon.png\" rel=\"apple-touch-icon\" sizes=\"194x194\" type=\"image/png\"/><link href=\"/browsers_1d25fdc3c7d78d65358d.css\" rel=\"stylesheet\"/><link href=\"https://web.whatsapp.com\" hreflang=\"x-default\" rel=\"alternate\"/><link href=\"https://web.whatsapp.com/%F0%9F%8C%90/all\" hreflang=\"all\" rel=\"alternate\"/><link href=\"https://web.whatsapp.com/%F0%9F%8C%90/en\" hreflang=\"en\" rel=\"alternate\"/><link href=\"https://web.whatsapp.com/%F0%9F%8C%90/ar\" hreflang=\"ar\" rel=\"alternate\"/><link href=\"/browsers_1d25fdc3c7d78d65358d.css\" rel=\"stylesheet\"/></head><body page=\"page-browsers\"><div id=\"app\"><div class=\"app-wrapper\"><div class=\"landing-wrapper\"><div class=\"landing-header\"><span class=\"landing-icon\"><img alt=\"WhatsApp\" class=\"landing-logo\" src=\"/img/logo-whatsapp-afe5ec49.png\"/></span><div class=\"landing-headerTitle\">WhatsApp Web</div></div><div class=\"landing-window\"><div class=\"landing-main\"><h1 class=\"landing-title browsers-title\">Browser not supported</h1><div class=\"text-tip\">We recommend using WhatsApp with one of the following browsers:</div><div class=\"browsers\"><div class=\"browser\"><a class=\"image\" href=\"http://www.google.com/chrome/\" target=\"_blank\"><img class=\"image-logo\" src=\"/img/logo-chrome-537b698c.png\"/> </a><a class=\"browser-title\" href=\"http://www.google.com/chrome/\" target=\"_blank\">Google Chrome</a></div><div class=\"browser\"><a class=\"image\" href=\"http://www.firefox.com\" target=\"_blank\"><img class=\"image-logo\" src=\"/img/logo-firefox-44f66fd9.png\"/> </a><a class=\"browser-title\" href=\"http://www.firefox.com\" target=\"_blank\">Mozilla Firefox</a></div><div class=\"browser\"><a class=\"image\" href=\"https://www.microsoft.com/edge\" target=\"_blank\"><img class=\"image-logo\" src=\"/img/logo-edge-3f865fd8.png\"/> </a><a class=\"browser-title\" href=\"https://www.microsoft.com/edge\" target=\"_blank\">Microsoft Edge</a></div></div><div class=\"text-tip\">WhatsApp also supports:</div><div class=\"browsers browsers-last\"><div class=\"browser\"><a class=\"image\" href=\"http://www.opera.com\" target=\"_blank\"><img class=\"image-logo\" src=\"/img/logo-opera-b5cc1256.png\"/> </a><a class=\"browser-title\" href=\"http://www.opera.com\" target=\"_blank\">Opera</a></div><div class=\"browser browser-safari\"><a class=\"image\" href=\"https://support.apple.com/downloads/#safari\" target=\"_blank\"><img class=\"image-logo\" src=\"/img/logo-safari-e44d1acf.png\"/> </a><a class=\"browser-title\" href=\"https://support.apple.com/downloads/#safari\" target=\"_blank\">Safari (macOS 11+ Only)</a></div></div></div></div></div></div></div></body></html>>\n"
     ]
    }
   ],
   "source": [
    "import requests as rq\n",
    "from bs4 import BeautifulSoup as soup\n",
    "url = 'https://web.whatsapp.com/'\n",
    "page =rq.get(url)\n",
    "souped = soup(page.text, 'html.parser')\n",
    "print(souped.prettify)"
   ]
  },
  {
   "cell_type": "code",
   "execution_count": 14,
   "id": "6f5ef0e9",
   "metadata": {
    "scrolled": true
   },
   "outputs": [
    {
     "ename": "WebDriverException",
     "evalue": "Message: Reached error page: about:neterror?e=dnsNotFound&u=https%3A//web.whatsapp.com/&c=UTF-8&d=We%20can%E2%80%99t%20connect%20to%20the%20server%20at%20web.whatsapp.com.\n",
     "output_type": "error",
     "traceback": [
      "\u001b[0;31m---------------------------------------------------------------------------\u001b[0m",
      "\u001b[0;31mWebDriverException\u001b[0m                        Traceback (most recent call last)",
      "Input \u001b[0;32mIn [14]\u001b[0m, in \u001b[0;36m<cell line: 6>\u001b[0;34m()\u001b[0m\n\u001b[1;32m      3\u001b[0m \u001b[38;5;28;01mfrom\u001b[39;00m \u001b[38;5;21;01mselenium\u001b[39;00m\u001b[38;5;21;01m.\u001b[39;00m\u001b[38;5;21;01mwebdriver\u001b[39;00m\u001b[38;5;21;01m.\u001b[39;00m\u001b[38;5;21;01mcommon\u001b[39;00m\u001b[38;5;21;01m.\u001b[39;00m\u001b[38;5;21;01mby\u001b[39;00m \u001b[38;5;28;01mimport\u001b[39;00m By\n\u001b[1;32m      5\u001b[0m drivers \u001b[38;5;241m=\u001b[39m webdriver\u001b[38;5;241m.\u001b[39mFirefox()\n\u001b[0;32m----> 6\u001b[0m \u001b[43mdrivers\u001b[49m\u001b[38;5;241;43m.\u001b[39;49m\u001b[43mget\u001b[49m\u001b[43m(\u001b[49m\u001b[38;5;124;43m'\u001b[39;49m\u001b[38;5;124;43mhttps://web.whatsapp.com/\u001b[39;49m\u001b[38;5;124;43m'\u001b[39;49m\u001b[43m)\u001b[49m\n\u001b[1;32m      7\u001b[0m \u001b[38;5;28;01massert\u001b[39;00m \u001b[38;5;124m'\u001b[39m\u001b[38;5;124mWhatsApp\u001b[39m\u001b[38;5;124m'\u001b[39m \u001b[38;5;129;01min\u001b[39;00m drivers\u001b[38;5;241m.\u001b[39mtitle\n\u001b[1;32m      8\u001b[0m elem \u001b[38;5;241m=\u001b[39m drivers\u001b[38;5;241m.\u001b[39mfind_element(By\u001b[38;5;241m.\u001b[39mtitle, \u001b[38;5;124m\"\u001b[39m\u001b[38;5;124mSeach input textbox\u001b[39m\u001b[38;5;124m\"\u001b[39m)\n",
      "File \u001b[0;32m/usr/lib/python3/dist-packages/selenium/webdriver/remote/webdriver.py:330\u001b[0m, in \u001b[0;36mWebDriver.get\u001b[0;34m(self, url)\u001b[0m\n\u001b[1;32m    326\u001b[0m \u001b[38;5;28;01mdef\u001b[39;00m \u001b[38;5;21mget\u001b[39m(\u001b[38;5;28mself\u001b[39m, url):\n\u001b[1;32m    327\u001b[0m     \u001b[38;5;124;03m\"\"\"\u001b[39;00m\n\u001b[1;32m    328\u001b[0m \u001b[38;5;124;03m    Loads a web page in the current browser session.\u001b[39;00m\n\u001b[1;32m    329\u001b[0m \u001b[38;5;124;03m    \"\"\"\u001b[39;00m\n\u001b[0;32m--> 330\u001b[0m     \u001b[38;5;28;43mself\u001b[39;49m\u001b[38;5;241;43m.\u001b[39;49m\u001b[43mexecute\u001b[49m\u001b[43m(\u001b[49m\u001b[43mCommand\u001b[49m\u001b[38;5;241;43m.\u001b[39;49m\u001b[43mGET\u001b[49m\u001b[43m,\u001b[49m\u001b[43m \u001b[49m\u001b[43m{\u001b[49m\u001b[38;5;124;43m'\u001b[39;49m\u001b[38;5;124;43murl\u001b[39;49m\u001b[38;5;124;43m'\u001b[39;49m\u001b[43m:\u001b[49m\u001b[43m \u001b[49m\u001b[43murl\u001b[49m\u001b[43m}\u001b[49m\u001b[43m)\u001b[49m\n",
      "File \u001b[0;32m/usr/lib/python3/dist-packages/selenium/webdriver/remote/webdriver.py:318\u001b[0m, in \u001b[0;36mWebDriver.execute\u001b[0;34m(self, driver_command, params)\u001b[0m\n\u001b[1;32m    316\u001b[0m response \u001b[38;5;241m=\u001b[39m \u001b[38;5;28mself\u001b[39m\u001b[38;5;241m.\u001b[39mcommand_executor\u001b[38;5;241m.\u001b[39mexecute(driver_command, params)\n\u001b[1;32m    317\u001b[0m \u001b[38;5;28;01mif\u001b[39;00m response:\n\u001b[0;32m--> 318\u001b[0m     \u001b[38;5;28;43mself\u001b[39;49m\u001b[38;5;241;43m.\u001b[39;49m\u001b[43merror_handler\u001b[49m\u001b[38;5;241;43m.\u001b[39;49m\u001b[43mcheck_response\u001b[49m\u001b[43m(\u001b[49m\u001b[43mresponse\u001b[49m\u001b[43m)\u001b[49m\n\u001b[1;32m    319\u001b[0m     response[\u001b[38;5;124m'\u001b[39m\u001b[38;5;124mvalue\u001b[39m\u001b[38;5;124m'\u001b[39m] \u001b[38;5;241m=\u001b[39m \u001b[38;5;28mself\u001b[39m\u001b[38;5;241m.\u001b[39m_unwrap_value(\n\u001b[1;32m    320\u001b[0m         response\u001b[38;5;241m.\u001b[39mget(\u001b[38;5;124m'\u001b[39m\u001b[38;5;124mvalue\u001b[39m\u001b[38;5;124m'\u001b[39m, \u001b[38;5;28;01mNone\u001b[39;00m))\n\u001b[1;32m    321\u001b[0m     \u001b[38;5;28;01mreturn\u001b[39;00m response\n",
      "File \u001b[0;32m/usr/lib/python3/dist-packages/selenium/webdriver/remote/errorhandler.py:242\u001b[0m, in \u001b[0;36mErrorHandler.check_response\u001b[0;34m(self, response)\u001b[0m\n\u001b[1;32m    240\u001b[0m         alert_text \u001b[38;5;241m=\u001b[39m value[\u001b[38;5;124m'\u001b[39m\u001b[38;5;124malert\u001b[39m\u001b[38;5;124m'\u001b[39m]\u001b[38;5;241m.\u001b[39mget(\u001b[38;5;124m'\u001b[39m\u001b[38;5;124mtext\u001b[39m\u001b[38;5;124m'\u001b[39m)\n\u001b[1;32m    241\u001b[0m     \u001b[38;5;28;01mraise\u001b[39;00m exception_class(message, screen, stacktrace, alert_text)\n\u001b[0;32m--> 242\u001b[0m \u001b[38;5;28;01mraise\u001b[39;00m exception_class(message, screen, stacktrace)\n",
      "\u001b[0;31mWebDriverException\u001b[0m: Message: Reached error page: about:neterror?e=dnsNotFound&u=https%3A//web.whatsapp.com/&c=UTF-8&d=We%20can%E2%80%99t%20connect%20to%20the%20server%20at%20web.whatsapp.com.\n"
     ]
    }
   ],
   "source": [
    "from selenium import webdriver\n",
    "from selenium.webdriver.common.keys import Keys\n",
    "from selenium.webdriver.common.by import By\n",
    "\n",
    "drivers = webdriver.Firefox()\n",
    "drivers.get('https://web.whatsapp.com/')\n",
    "assert 'WhatsApp' in drivers.title\n",
    "elem = drivers.find_element(By.title, \"Seach input textbox\")\n",
    "elem.send_keys('Du8')\n",
    "elem.send_keys(Keys.RETURN)\n",
    "elem.drivers.find_element(By.title, 'Type a message')\n",
    "elem.send_keys('hey there')\n",
    "elem.send_keys(Keys.RETURN)\n",
    "drivers.close()\n",
    "\n"
   ]
  },
  {
   "cell_type": "code",
   "execution_count": null,
   "id": "3e066e8d",
   "metadata": {},
   "outputs": [],
   "source": []
  }
 ],
 "metadata": {
  "kernelspec": {
   "display_name": "Python 3 (ipykernel)",
   "language": "python",
   "name": "python3"
  },
  "language_info": {
   "codemirror_mode": {
    "name": "ipython",
    "version": 3
   },
   "file_extension": ".py",
   "mimetype": "text/x-python",
   "name": "python",
   "nbconvert_exporter": "python",
   "pygments_lexer": "ipython3",
   "version": "3.9.2"
  }
 },
 "nbformat": 4,
 "nbformat_minor": 5
}
