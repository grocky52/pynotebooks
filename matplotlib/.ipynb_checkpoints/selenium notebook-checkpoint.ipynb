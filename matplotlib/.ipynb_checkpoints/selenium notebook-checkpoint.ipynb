{
 "cells": [
  {
   "cell_type": "code",
   "execution_count": 8,
   "id": "greatest-quantum",
   "metadata": {},
   "outputs": [
    {
     "name": "stdout",
     "output_type": "stream",
     "text": [
      "<bound method Tag.prettify of <!DOCTYPE html>\n",
      "<!--[if lt IE 7]>      <html class=\"no-js lt-ie9 lt-ie8 lt-ie7\"> <![endif]--><!--[if IE 7]>         <html class=\"no-js lt-ie9 lt-ie8\"> <![endif]--><!--[if IE 8]>         <html class=\"no-js lt-ie9\"> <![endif]--><!--[if gt IE 8]><!--><html class=\"no-js\" dir=\"ltr\"><!--<![endif]--><head><meta charset=\"utf-8\"/><meta content=\"IE=edge,chrome=1\" http-equiv=\"X-UA-Compatible\"/><title>WhatsApp Web</title><meta content=\"width=device-width\" name=\"viewport\"/><meta content=\"notranslate\" name=\"google\"/><meta content=\"Quickly send and receive WhatsApp messages right from your computer.\" name=\"description\"/><meta content=\"Quickly send and receive WhatsApp messages right from your computer.\" name=\"og:description\"/><meta content=\"https://web.whatsapp.com/\" name=\"og:url\"/><meta content=\"WhatsApp Web\" name=\"og:title\"/><meta content=\"https://static.facebook.com/images/whatsapp/www/whatsapp-promo.png\" name=\"og:image\"/><link href=\"/img/favicon/1x/favicon.png\" rel=\"icon\" sizes=\"16x16\" type=\"image/png\"/><link href=\"/img/favicon/2x/favicon.png\" rel=\"icon\" sizes=\"32x32\" type=\"image/png\"/><link href=\"/favicon.ico\" rel=\"shortcut icon\" type=\"image/x-icon\"/><link href=\"/apple-touch-icon.png\" rel=\"apple-touch-icon\" sizes=\"194x194\" type=\"image/png\"/><link href=\"/browsers_1d25fdc3c7d78d65358d.css\" rel=\"stylesheet\"/><link href=\"https://web.whatsapp.com\" hreflang=\"x-default\" rel=\"alternate\"/><link href=\"https://web.whatsapp.com/%F0%9F%8C%90/all\" hreflang=\"all\" rel=\"alternate\"/><link href=\"https://web.whatsapp.com/%F0%9F%8C%90/en\" hreflang=\"en\" rel=\"alternate\"/><link href=\"https://web.whatsapp.com/%F0%9F%8C%90/ar\" hreflang=\"ar\" rel=\"alternate\"/><link href=\"/browsers_1d25fdc3c7d78d65358d.css\" rel=\"stylesheet\"/></head><body page=\"page-browsers\"><div id=\"app\"><div class=\"app-wrapper\"><div class=\"landing-wrapper\"><div class=\"landing-header\"><span class=\"landing-icon\"><img alt=\"WhatsApp\" class=\"landing-logo\" src=\"/img/logo-whatsapp-afe5ec49.png\"/></span><div class=\"landing-headerTitle\">WhatsApp Web</div></div><div class=\"landing-window\"><div class=\"landing-main\"><h1 class=\"landing-title browsers-title\">Browser not supported</h1><div class=\"text-tip\">We recommend using WhatsApp with one of the following browsers:</div><div class=\"browsers\"><div class=\"browser\"><a class=\"image\" href=\"http://www.google.com/chrome/\" target=\"_blank\"><img class=\"image-logo\" src=\"/img/logo-chrome-537b698c.png\"/> </a><a class=\"browser-title\" href=\"http://www.google.com/chrome/\" target=\"_blank\">Google Chrome</a></div><div class=\"browser\"><a class=\"image\" href=\"http://www.firefox.com\" target=\"_blank\"><img class=\"image-logo\" src=\"/img/logo-firefox-44f66fd9.png\"/> </a><a class=\"browser-title\" href=\"http://www.firefox.com\" target=\"_blank\">Mozilla Firefox</a></div><div class=\"browser\"><a class=\"image\" href=\"https://www.microsoft.com/edge\" target=\"_blank\"><img class=\"image-logo\" src=\"/img/logo-edge-3f865fd8.png\"/> </a><a class=\"browser-title\" href=\"https://www.microsoft.com/edge\" target=\"_blank\">Microsoft Edge</a></div></div><div class=\"text-tip\">WhatsApp also supports:</div><div class=\"browsers browsers-last\"><div class=\"browser\"><a class=\"image\" href=\"http://www.opera.com\" target=\"_blank\"><img class=\"image-logo\" src=\"/img/logo-opera-b5cc1256.png\"/> </a><a class=\"browser-title\" href=\"http://www.opera.com\" target=\"_blank\">Opera</a></div><div class=\"browser browser-safari\"><a class=\"image\" href=\"https://support.apple.com/downloads/#safari\" target=\"_blank\"><img class=\"image-logo\" src=\"/img/logo-safari-e44d1acf.png\"/> </a><a class=\"browser-title\" href=\"https://support.apple.com/downloads/#safari\" target=\"_blank\">Safari (macOS 11+ Only)</a></div></div></div></div></div></div></div></body></html>>\n"
     ]
    }
   ],
   "source": [
    "import requests as rq\n",
    "from bs4 import BeautifulSoup as soup\n",
    "url = 'https://web.whatsapp.com/'\n",
    "page =rq.get(url)\n",
    "souped = soup(page.text, 'html.parser')\n",
    "print(souped.prettify)"
   ]
  },
  {
   "cell_type": "code",
   "execution_count": 12,
   "id": "6f5ef0e9",
   "metadata": {},
   "outputs": [
    {
     "ename": "TypeError",
     "evalue": "'module' object is not callable",
     "output_type": "error",
     "traceback": [
      "\u001b[0;31m---------------------------------------------------------------------------\u001b[0m",
      "\u001b[0;31mTypeError\u001b[0m                                 Traceback (most recent call last)",
      "Input \u001b[0;32mIn [12]\u001b[0m, in \u001b[0;36m<cell line: 5>\u001b[0;34m()\u001b[0m\n\u001b[1;32m      2\u001b[0m \u001b[38;5;28;01mfrom\u001b[39;00m \u001b[38;5;21;01mselenium\u001b[39;00m\u001b[38;5;21;01m.\u001b[39;00m\u001b[38;5;21;01mwebdriver\u001b[39;00m\u001b[38;5;21;01m.\u001b[39;00m\u001b[38;5;21;01mcommon\u001b[39;00m\u001b[38;5;21;01m.\u001b[39;00m\u001b[38;5;21;01mkeys\u001b[39;00m \u001b[38;5;28;01mimport\u001b[39;00m Keys\n\u001b[1;32m      3\u001b[0m \u001b[38;5;28;01mfrom\u001b[39;00m \u001b[38;5;21;01mselenium\u001b[39;00m\u001b[38;5;21;01m.\u001b[39;00m\u001b[38;5;21;01mwebdriver\u001b[39;00m\u001b[38;5;21;01m.\u001b[39;00m\u001b[38;5;21;01mcommon\u001b[39;00m\u001b[38;5;21;01m.\u001b[39;00m\u001b[38;5;21;01mby\u001b[39;00m \u001b[38;5;28;01mimport\u001b[39;00m By\n\u001b[0;32m----> 5\u001b[0m drivers \u001b[38;5;241m=\u001b[39m \u001b[43mwebdriver\u001b[49m\u001b[38;5;241;43m.\u001b[39;49m\u001b[43mfirefox\u001b[49m\u001b[43m(\u001b[49m\u001b[43m)\u001b[49m\n\u001b[1;32m      6\u001b[0m drivers\u001b[38;5;241m.\u001b[39mget(\u001b[38;5;124m'\u001b[39m\u001b[38;5;124mhttps://web.whatsapp.com/\u001b[39m\u001b[38;5;124m'\u001b[39m)\n\u001b[1;32m      7\u001b[0m \u001b[38;5;28;01massert\u001b[39;00m \u001b[38;5;124m'\u001b[39m\u001b[38;5;124mWhatsApp\u001b[39m\u001b[38;5;124m'\u001b[39m \u001b[38;5;129;01min\u001b[39;00m drivers\u001b[38;5;241m.\u001b[39mtitle\n",
      "\u001b[0;31mTypeError\u001b[0m: 'module' object is not callable"
     ]
    }
   ],
   "source": [
    "from selenium import webdriver\n",
    "from selenium.webdriver.common.keys import Keys\n",
    "from selenium.webdriver.common.by import By\n",
    "\n",
    "drivers = webdriver.Firefox()\n",
    "drivers.get('https://web.whatsapp.com/')\n",
    "assert 'WhatsApp' in drivers.title\n",
    "elem = drivers.find_element(By.title, \"Seach input textbox\")\n",
    "elem.send_keys('Du8')\n",
    "elem.send_keys(Keys.RETURN)\n",
    "elem.drivers.find_element(By.title, 'Type a message')\n",
    "elem.send_keys('hey there')\n",
    "elem.send_keys(Keys.RETURN)\n",
    "drivers.close()\n",
    "\n"
   ]
  },
  {
   "cell_type": "code",
   "execution_count": null,
   "id": "3e066e8d",
   "metadata": {},
   "outputs": [],
   "source": []
  }
 ],
 "metadata": {
  "kernelspec": {
   "display_name": "Python 3 (ipykernel)",
   "language": "python",
   "name": "python3"
  },
  "language_info": {
   "codemirror_mode": {
    "name": "ipython",
    "version": 3
   },
   "file_extension": ".py",
   "mimetype": "text/x-python",
   "name": "python",
   "nbconvert_exporter": "python",
   "pygments_lexer": "ipython3",
   "version": "3.9.2"
  }
 },
 "nbformat": 4,
 "nbformat_minor": 5
}
