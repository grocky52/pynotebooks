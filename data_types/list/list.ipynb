{
 "cells": [
  {
   "cell_type": "code",
   "execution_count": 51,
   "id": "cb9e6ea3",
   "metadata": {},
   "outputs": [],
   "source": [
    "# indexing \n",
    "# list within a list\n",
    "# list sliicing\n",
    "# len function in a list\n",
    "# changing values using index\n",
    "# list concatenation and replication\n",
    "# del function\n",
    "# in and not in a list\n",
    "# using for loop \n",
    "# appending a list\n",
    "# enumerate\n",
    "# multiple assynment tricks\n",
    "# argumented assynment operator\n",
    "# inndex method\n",
    "# insert\n",
    "# sort\n",
    "# sorted \n",
    "# extend\n",
    "# pop\n",
    "# remove\n",
    "# reerse in a list\n",
    "# using list with the range"
   ]
  },
  {
   "cell_type": "code",
   "execution_count": 3,
   "id": "f8d5569f",
   "metadata": {},
   "outputs": [
    {
     "name": "stdout",
     "output_type": "stream",
     "text": [
      "['diana', 'caro', 'mercy', 'wangui', 'salome', 'wahu', 'grace']\n",
      "20\n"
     ]
    }
   ],
   "source": [
    "list_names = ['diana' ,'caro', 'mercy', 'wangui' ,'salome','wahu', 'grace' ]\n",
    "print(list_names)\n",
    "list_numbers = [23, 30, 32, 45, 60, 39, 20, 34, 60, 80, 100, 160]\n",
    "print(list_numbers[6])"
   ]
  },
  {
   "cell_type": "code",
   "execution_count": 38,
   "id": "7a78a392",
   "metadata": {},
   "outputs": [
    {
     "name": "stdout",
     "output_type": "stream",
     "text": [
      "wahu\n",
      "20\n",
      "h\n",
      "salome\n"
     ]
    }
   ],
   "source": [
    "# indexing actual names\n",
    "print(list_names[5])\n",
    "print(int(list_numbers[6]))\n",
    "\n",
    "#indexinng  letter within the name which is not applicable with the numbers \n",
    "print(list_names[5][2])\n",
    "\n",
    "#negative index\n",
    "print(list_names[-3])"
   ]
  },
  {
   "cell_type": "code",
   "execution_count": 39,
   "id": "9f0eed61",
   "metadata": {},
   "outputs": [
    {
     "name": "stdout",
     "output_type": "stream",
     "text": [
      "[['diana', 'caro', 'mercy', 'wangui', 'salome', 'wahu', 'grace'], [23, 30, 32, 45, 60, 39, 20, 34, 60, 80, 100, 160]]\n",
      "\n",
      "['diana', 'caro', 'mercy', 'wangui', 'salome', 'wahu', 'grace']\n",
      "\n",
      "salome\n",
      "\n",
      "o\n"
     ]
    }
   ],
   "source": [
    "# list within a list\n",
    "\n",
    "names_numbers = [['diana' ,'caro', 'mercy', 'wangui' ,'salome','wahu', 'grace' ],[23, 30, 32, 45, 60, 39, 20, 34, 60, 80, 100, 160] ]\n",
    "print(names_numbers)\n",
    "print('')\n",
    "print(names_numbers[0])   #printing the first list within a list\n",
    "print('')\n",
    "print(names_numbers[0][4])     #printing the item in the 4th index of the first list\n",
    "print('')\n",
    "print(names_numbers[0][4][3])   #printing alphabet in the third porsition 4th index first list\n"
   ]
  },
  {
   "cell_type": "code",
   "execution_count": 29,
   "id": "83a8bcd2",
   "metadata": {},
   "outputs": [
    {
     "name": "stdout",
     "output_type": "stream",
     "text": [
      "['mercy', 'wangui', 'salome', 'wahu', 'grace']\n",
      "['grace', 'wahu', 'salome', 'wangui', 'mercy', 'caro', 'diana']\n",
      "[45, 60, 39, 20]\n"
     ]
    }
   ],
   "source": [
    "# list sliicing\n",
    "list_names = ['diana' ,'caro', 'mercy', 'wangui' ,'salome','wahu', 'grace' ]\n",
    "print(list_names[2:])\n",
    "print(list_names[::-1])  #reversing a sring using neegative indices\n",
    "list_numbers = [23, 30, 32, 45, 60, 39, 20, 34, 60, 80, 100, 160]\n",
    "print(list_numbers[3:7])\n"
   ]
  },
  {
   "cell_type": "code",
   "execution_count": 33,
   "id": "7433bbdb",
   "metadata": {},
   "outputs": [
    {
     "name": "stdout",
     "output_type": "stream",
     "text": [
      "7\n",
      "12\n"
     ]
    }
   ],
   "source": [
    "# len function in a list\n",
    "print(len(list_names))\n",
    "print(len(list_numbers))"
   ]
  },
  {
   "cell_type": "code",
   "execution_count": 35,
   "id": "316b48bf",
   "metadata": {},
   "outputs": [
    {
     "name": "stdout",
     "output_type": "stream",
     "text": [
      "['diana', 'caro', 'mercy', 'wangui', 'james', 'wahu', 'grace']\n"
     ]
    }
   ],
   "source": [
    "# changing values using index\n",
    "list_names[4] = 'james'\n",
    "print(list_names)"
   ]
  },
  {
   "cell_type": "code",
   "execution_count": 46,
   "id": "00f3f8ae",
   "metadata": {},
   "outputs": [
    {
     "name": "stdout",
     "output_type": "stream",
     "text": [
      "['diana', 'caro', 'mercy', 'wangui', 'salome', 'wahu', 'grace', 'jay', 'jose', 'dus', 'pato']\n",
      "\n",
      "['jay', 'jose', 'dus', 'pato', 'jay', 'jose', 'dus', 'pato', 'jay', 'jose', 'dus', 'pato', 'jay', 'jose', 'dus', 'pato']\n"
     ]
    }
   ],
   "source": [
    "# list concatenation \n",
    "list_names1 = ['jay','jose','dus','pato']\n",
    "concat = list_names + list_names1\n",
    "print(concat)\n",
    "\n",
    "print('')\n",
    "# list replication\n",
    "rep = list_names1 * 4\n",
    "print(rep)"
   ]
  },
  {
   "cell_type": "code",
   "execution_count": 50,
   "id": "0a1daef9",
   "metadata": {},
   "outputs": [
    {
     "name": "stdout",
     "output_type": "stream",
     "text": [
      "['diana', 'caro', 'mercy', 'wangui', 'grace']\n"
     ]
    }
   ],
   "source": [
    "# del function\n",
    "\n",
    "del(list_names[4])\n",
    "print(list_names)"
   ]
  },
  {
   "cell_type": "code",
   "execution_count": 55,
   "id": "cae4067c",
   "metadata": {},
   "outputs": [
    {
     "name": "stdout",
     "output_type": "stream",
     "text": [
      "True\n",
      "True\n"
     ]
    }
   ],
   "source": [
    "# in and not in using a list\n",
    "\n",
    "mercy = 'mercy' in list_names\n",
    "james = 'james' not in list_names\n",
    "print(mercy)\n",
    "print(james)"
   ]
  },
  {
   "cell_type": "code",
   "execution_count": 56,
   "id": "613aff42",
   "metadata": {},
   "outputs": [
    {
     "name": "stdout",
     "output_type": "stream",
     "text": [
      "diana\n",
      "caro\n",
      "mercy\n",
      "wangui\n",
      "grace\n"
     ]
    }
   ],
   "source": [
    "# using for loop \n",
    "\n",
    "for values in list_names:\n",
    "    print(values)"
   ]
  },
  {
   "cell_type": "code",
   "execution_count": 58,
   "id": "e475684a",
   "metadata": {},
   "outputs": [
    {
     "name": "stdout",
     "output_type": "stream",
     "text": [
      "['diana', 'caro', 'mercy', 'wangui', 'grace']\n"
     ]
    }
   ],
   "source": [
    "# appending -- this works together with the for loop to work with different items in different lists\n",
    "names = []\n",
    "for values in list_names:\n",
    "    names.append(values)\n",
    "print(names)"
   ]
  },
  {
   "cell_type": "code",
   "execution_count": 60,
   "id": "b60d96a2",
   "metadata": {},
   "outputs": [
    {
     "name": "stdout",
     "output_type": "stream",
     "text": [
      "0 diana\n",
      "1 caro\n",
      "2 mercy\n",
      "3 wangui\n",
      "4 grace\n"
     ]
    }
   ],
   "source": [
    "# list enumaration  / printing index and their values in a list\n",
    "for index, values in enumerate(list_names):\n",
    "    print(index, values)"
   ]
  },
  {
   "cell_type": "code",
   "execution_count": 50,
   "id": "561b8405",
   "metadata": {},
   "outputs": [
    {
     "name": "stdout",
     "output_type": "stream",
     "text": [
      "['wangui', 'wahu', 'salome', 'salome', 'wahu', 'lucy', 'lucy', 'joy', 'grace', 'diana']\n"
     ]
    }
   ],
   "source": [
    "#multiple asynment using indices\n",
    "#nb you only assyn to the available index\n",
    "list_names[3], list_names[4] = 'salome', 'wahu'\n",
    "print(list_names)"
   ]
  },
  {
   "cell_type": "code",
   "execution_count": 5,
   "id": "64a7027a",
   "metadata": {},
   "outputs": [
    {
     "name": "stdout",
     "output_type": "stream",
     "text": [
      "the index of salome is: 4\n"
     ]
    }
   ],
   "source": [
    "#index function\n",
    "index = list_names.index('salome')\n",
    "print(f'the index of salome is: {index}')"
   ]
  },
  {
   "cell_type": "code",
   "execution_count": 9,
   "id": "52a5dd77",
   "metadata": {},
   "outputs": [
    {
     "name": "stdout",
     "output_type": "stream",
     "text": [
      "['diana', 'caro', 'mercy', 'wangui', 'salome', 'wahu', 'grace', 'joy']\n"
     ]
    }
   ],
   "source": [
    "#insert function\n",
    "list_names.insert(7 , 'joy')\n",
    "print(list_names)"
   ]
  },
  {
   "cell_type": "code",
   "execution_count": 43,
   "id": "c982027f",
   "metadata": {},
   "outputs": [
    {
     "name": "stdout",
     "output_type": "stream",
     "text": [
      "['wangui', 'wahu', 'salome', 'mercy', 'lucy', 'lucy', 'joy', 'grace', 'diana', 'caro']\n",
      "['wangui', 'wahu', 'salome', 'mercy', 'lucy', 'lucy', 'joy', 'grace', 'diana', 'caro']\n",
      "['caro', 'diana', 'grace', 'joy', 'lucy', 'lucy', 'mercy', 'salome', 'wahu', 'wangui']\n"
     ]
    }
   ],
   "source": [
    "# sort/reverse\n",
    "list_names.sort()\n",
    "list_desc = list_names\n",
    "list_desc.sort(reverse = True)\n",
    "print(list_names)\n",
    "print(list_desc)\n",
    "\n",
    "#sorted\n",
    "print(sorted(list_names))"
   ]
  },
  {
   "cell_type": "code",
   "execution_count": 41,
   "id": "e1f4867c",
   "metadata": {},
   "outputs": [
    {
     "name": "stdout",
     "output_type": "stream",
     "text": [
      "['wangui', 'wahu', 'salome', 'mercy', 'lucy', 'joy', 'grace', 'diana', 'caro', 'lucy']\n"
     ]
    }
   ],
   "source": [
    "# extend\n",
    "list_names.extend(['lucy'])\n",
    "print(list_names)"
   ]
  },
  {
   "cell_type": "code",
   "execution_count": 44,
   "id": "4db807af",
   "metadata": {},
   "outputs": [
    {
     "name": "stdout",
     "output_type": "stream",
     "text": [
      "['wangui', 'wahu', 'salome', 'mercy', 'lucy', 'lucy', 'joy', 'grace', 'diana']\n"
     ]
    }
   ],
   "source": [
    "#pop\n",
    "list_names.pop()\n",
    "print(list_names)"
   ]
  },
  {
   "cell_type": "code",
   "execution_count": 45,
   "id": "88231e6d",
   "metadata": {},
   "outputs": [
    {
     "name": "stdout",
     "output_type": "stream",
     "text": [
      "['wangui', 'wahu', 'salome', 'ruth', 'mercy', 'lucy', 'lucy', 'joy', 'grace', 'diana']\n"
     ]
    }
   ],
   "source": [
    "#insert\n",
    "list_names.insert(3, 'ruth')\n",
    "print(list_names)"
   ]
  },
  {
   "cell_type": "code",
   "execution_count": 49,
   "id": "112032d4",
   "metadata": {},
   "outputs": [
    {
     "name": "stdout",
     "output_type": "stream",
     "text": [
      "[0, 2, 4, 6, 8]\n"
     ]
    }
   ],
   "source": [
    "#using range with a list\n",
    "print(list(range(0,10,2)))"
   ]
  },
  {
   "cell_type": "code",
   "execution_count": null,
   "id": "82f067e9",
   "metadata": {},
   "outputs": [],
   "source": []
  }
 ],
 "metadata": {
  "kernelspec": {
   "display_name": "Python 3",
   "language": "python",
   "name": "python3"
  },
  "language_info": {
   "codemirror_mode": {
    "name": "ipython",
    "version": 3
   },
   "file_extension": ".py",
   "mimetype": "text/x-python",
   "name": "python",
   "nbconvert_exporter": "python",
   "pygments_lexer": "ipython3",
   "version": "3.8.8"
  }
 },
 "nbformat": 4,
 "nbformat_minor": 5
}
