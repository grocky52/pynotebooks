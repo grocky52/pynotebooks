{
 "cells": [
  {
   "cell_type": "code",
   "execution_count": 4,
   "id": "3c228651",
   "metadata": {},
   "outputs": [
    {
     "name": "stdout",
     "output_type": "stream",
     "text": [
      "{'english': 'A', 'maths': 'b+', 'chemestry': 'D', 'biology': 'B+'}\n"
     ]
    }
   ],
   "source": [
    "subjects = {'english':'A', 'maths':'b+', 'chemestry':'D', 'biology':'B+'}\n",
    "print(subjects)"
   ]
  },
  {
   "cell_type": "code",
   "execution_count": 6,
   "id": "9b94bf64",
   "metadata": {},
   "outputs": [
    {
     "name": "stdout",
     "output_type": "stream",
     "text": [
      "english\n",
      "maths\n",
      "chemestry\n",
      "biology\n"
     ]
    }
   ],
   "source": [
    "#getting the keys\n",
    "for k in subjects.keys():\n",
    "    print(k)"
   ]
  },
  {
   "cell_type": "code",
   "execution_count": 7,
   "id": "1440e4c8",
   "metadata": {},
   "outputs": [
    {
     "name": "stdout",
     "output_type": "stream",
     "text": [
      "A\n",
      "b+\n",
      "D\n",
      "B+\n"
     ]
    }
   ],
   "source": [
    "#getting the values\n",
    "for v in subjects.values():\n",
    "    print(v)"
   ]
  },
  {
   "cell_type": "code",
   "execution_count": 8,
   "id": "213e5ac4",
   "metadata": {},
   "outputs": [
    {
     "name": "stdout",
     "output_type": "stream",
     "text": [
      "('english', 'A')\n",
      "('maths', 'b+')\n",
      "('chemestry', 'D')\n",
      "('biology', 'B+')\n"
     ]
    }
   ],
   "source": [
    "for kv in subjects.items():\n",
    "    print(kv)"
   ]
  },
  {
   "cell_type": "code",
   "execution_count": 11,
   "id": "d9b7f3cf",
   "metadata": {},
   "outputs": [
    {
     "data": {
      "text/plain": [
       "True"
      ]
     },
     "execution_count": 11,
     "metadata": {},
     "output_type": "execute_result"
    }
   ],
   "source": [
    "#checking whetehr key or values excists\n",
    "'english' in subjects.keys()"
   ]
  },
  {
   "cell_type": "code",
   "execution_count": 12,
   "id": "16d81b72",
   "metadata": {},
   "outputs": [
    {
     "data": {
      "text/plain": [
       "True"
      ]
     },
     "execution_count": 12,
     "metadata": {},
     "output_type": "execute_result"
    }
   ],
   "source": [
    "#checking whetehr value or values excists\n",
    "'b+' in subjects.values()"
   ]
  },
  {
   "cell_type": "code",
   "execution_count": null,
   "id": "c2f50048",
   "metadata": {},
   "outputs": [],
   "source": [
    "\n"
   ]
  }
 ],
 "metadata": {
  "kernelspec": {
   "display_name": "Python 3",
   "language": "python",
   "name": "python3"
  },
  "language_info": {
   "codemirror_mode": {
    "name": "ipython",
    "version": 3
   },
   "file_extension": ".py",
   "mimetype": "text/x-python",
   "name": "python",
   "nbconvert_exporter": "python",
   "pygments_lexer": "ipython3",
   "version": "3.8.8"
  }
 },
 "nbformat": 4,
 "nbformat_minor": 5
}
